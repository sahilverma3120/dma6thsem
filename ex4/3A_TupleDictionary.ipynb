{
 "cells": [
  {
   "cell_type": "markdown",
   "metadata": {},
   "source": [
    "### Matrices"
   ]
  },
  {
   "cell_type": "code",
   "execution_count": 1,
   "metadata": {},
   "outputs": [
    {
     "name": "stdout",
     "output_type": "stream",
     "text": [
      "[4, 5, 6]\n"
     ]
    }
   ],
   "source": [
    "mx = [[1, 2, 3], [4, 5, 6], [7, 8, 9]] \n",
    "print(mx[1])"
   ]
  },
  {
   "cell_type": "code",
   "execution_count": 2,
   "metadata": {},
   "outputs": [
    {
     "name": "stdout",
     "output_type": "stream",
     "text": [
      "8\n"
     ]
    }
   ],
   "source": [
    "print(mx[2][1])"
   ]
  },
  {
   "cell_type": "markdown",
   "metadata": {},
   "source": [
    "### Tuples"
   ]
  },
  {
   "cell_type": "markdown",
   "metadata": {},
   "source": [
    "##### Tuples are used for grouping data using parentheses\n",
    "##### Tuples are useful for representing what other languages often call records .There is no description of what each of these fields means.\n",
    "##### Tuples support the same sequence operations as strings. \n",
    "##### But if we try to use item assignment to modify one of the elements of the tuple, we get an error, i.e. \n",
    "### They are immutable like strings"
   ]
  },
  {
   "cell_type": "code",
   "execution_count": 3,
   "metadata": {},
   "outputs": [
    {
     "name": "stdout",
     "output_type": "stream",
     "text": [
      "('Julia', 'Roberts', 1967, 'Duplicity', 2009, 'Actress', 'Atlanta, Georgia')\n"
     ]
    }
   ],
   "source": [
    "records = (\"Julia\", \"Roberts\", 1967, \"Duplicity\", 2009, \"Actress\", \"Atlanta, Georgia\")\n",
    "print (records)"
   ]
  },
  {
   "cell_type": "code",
   "execution_count": 4,
   "metadata": {},
   "outputs": [
    {
     "ename": "TypeError",
     "evalue": "'tuple' object does not support item assignment",
     "output_type": "error",
     "traceback": [
      "\u001b[1;31m---------------------------------------------------------------------------\u001b[0m",
      "\u001b[1;31mTypeError\u001b[0m                                 Traceback (most recent call last)",
      "\u001b[1;32m<ipython-input-4-88d09caeb63f>\u001b[0m in \u001b[0;36m<module>\u001b[1;34m\u001b[0m\n\u001b[0;32m      1\u001b[0m \u001b[1;31m#This way of assignment is not allowed and it will give error\u001b[0m\u001b[1;33m\u001b[0m\u001b[1;33m\u001b[0m\u001b[1;33m\u001b[0m\u001b[0m\n\u001b[1;32m----> 2\u001b[1;33m \u001b[0mrecords\u001b[0m\u001b[1;33m[\u001b[0m\u001b[1;36m4\u001b[0m\u001b[1;33m]\u001b[0m\u001b[1;33m=\u001b[0m\u001b[1;34m\"Eat Pray Love\"\u001b[0m\u001b[1;33m\u001b[0m\u001b[1;33m\u001b[0m\u001b[0m\n\u001b[0m\u001b[0;32m      3\u001b[0m \u001b[0mprint\u001b[0m\u001b[1;33m(\u001b[0m\u001b[0mrecords\u001b[0m\u001b[1;33m)\u001b[0m\u001b[1;33m\u001b[0m\u001b[1;33m\u001b[0m\u001b[0m\n",
      "\u001b[1;31mTypeError\u001b[0m: 'tuple' object does not support item assignment"
     ]
    }
   ],
   "source": [
    "#This way of assignment is not allowed and it will give error\n",
    "records[4]=\"Eat Pray Love\"\n",
    "print(records)"
   ]
  },
  {
   "cell_type": "code",
   "execution_count": 5,
   "metadata": {},
   "outputs": [
    {
     "name": "stdout",
     "output_type": "stream",
     "text": [
      "('Julia', 'Roberts', 1967, 'Eat Pray Love', 2010, 'Actress', 'Atlanta, Georgia')\n"
     ]
    }
   ],
   "source": [
    "# This is the way to modify the tuple by assigning again\n",
    "records= records[:3] + (\"Eat Pray Love\", 2010) + records[5:]\n",
    "print(records)"
   ]
  },
  {
   "cell_type": "code",
   "execution_count": 6,
   "metadata": {},
   "outputs": [
    {
     "data": {
      "text/plain": [
       "tuple"
      ]
     },
     "execution_count": 6,
     "metadata": {},
     "output_type": "execute_result"
    }
   ],
   "source": [
    "## To create a tuple with a single element, we have to include the final comma, \n",
    "##because without the final comma, Python treats the (5) below as an integer in parentheses\n",
    "tup=(5,)\n",
    "type(tup)"
   ]
  },
  {
   "cell_type": "markdown",
   "metadata": {},
   "source": [
    "### Tuple Packing and Unpacking"
   ]
  },
  {
   "cell_type": "code",
   "execution_count": 7,
   "metadata": {},
   "outputs": [
    {
     "name": "stdout",
     "output_type": "stream",
     "text": [
      "Bob 19 CS\n"
     ]
    }
   ],
   "source": [
    "## Tuple Packing\n",
    "b = (\"Bob\", 19, \"CS\") \n",
    "## Tuple Unpacking\n",
    "(name, age, studies) = b # tuple unpacking\n",
    "print(name, age, studies)"
   ]
  },
  {
   "cell_type": "markdown",
   "metadata": {},
   "source": [
    "### Tuples can be returned from a function"
   ]
  },
  {
   "cell_type": "code",
   "execution_count": 8,
   "metadata": {},
   "outputs": [
    {
     "name": "stdout",
     "output_type": "stream",
     "text": [
      "(25.12, 50.24)\n"
     ]
    }
   ],
   "source": [
    "def f(r): \n",
    "    \"\"\" Return (circumference, area) of a circle of radius r \"\"\" \n",
    "    c = 2 * 3.14 * r \n",
    "    a = 3.14 * r * r \n",
    "    return (c, a)\n",
    "print(f(4))"
   ]
  },
  {
   "cell_type": "markdown",
   "metadata": {},
   "source": [
    "## Dictionaries\n",
    "#### Dictionaries are yet another kind of compound type. \n",
    "#### Python’s built-in mapping type to map keys (immutable type), to values, (heterogeneous), \n",
    "#### just like the elements of a list or tuple. \n",
    "#### One way to create a dictionary is to start with the empty dictionary and add key:value pairs. \n",
    "#### The empty dictionary is denoted {}:\n"
   ]
  },
  {
   "cell_type": "code",
   "execution_count": 9,
   "metadata": {},
   "outputs": [
    {
     "name": "stdout",
     "output_type": "stream",
     "text": [
      "{'one': 'uno', 'two': 'dos'}\n"
     ]
    }
   ],
   "source": [
    "eng2sp = {} \n",
    "eng2sp[\"one\"] = \"uno\" \n",
    "eng2sp[\"two\"] = \"dos\"\n",
    "print(eng2sp) "
   ]
  },
  {
   "cell_type": "markdown",
   "metadata": {},
   "source": [
    "#### Another Example"
   ]
  },
  {
   "cell_type": "code",
   "execution_count": 10,
   "metadata": {},
   "outputs": [
    {
     "name": "stdout",
     "output_type": "stream",
     "text": [
      "{'money': 12, 'candy': 3, 'tissues': 75}\n",
      "3\n"
     ]
    }
   ],
   "source": [
    "purse = dict()\n",
    "purse['money'] = 12\n",
    "purse['candy'] = 3\n",
    "purse['tissues'] = 75\n",
    "print(purse) \n",
    "print(purse['candy'])"
   ]
  },
  {
   "cell_type": "code",
   "execution_count": 11,
   "metadata": {},
   "outputs": [
    {
     "name": "stdout",
     "output_type": "stream",
     "text": [
      "{'money': 12, 'candy': 5, 'tissues': 75}\n"
     ]
    }
   ],
   "source": [
    "purse['candy'] = purse['candy'] + 2\n",
    "print(purse)"
   ]
  },
  {
   "cell_type": "markdown",
   "metadata": {},
   "source": [
    "### Dictionary Operations"
   ]
  },
  {
   "cell_type": "code",
   "execution_count": 12,
   "metadata": {},
   "outputs": [
    {
     "name": "stdout",
     "output_type": "stream",
     "text": [
      "{'apples': 430, 'bananas': 312}\n"
     ]
    }
   ],
   "source": [
    "# Deleting an item\n",
    "inventory = {\"apples\": 430, \"bananas\": 312, \"pears\": 217}\n",
    "del inventory[\"pears\"] \n",
    "print(inventory) "
   ]
  },
  {
   "cell_type": "code",
   "execution_count": 13,
   "metadata": {},
   "outputs": [
    {
     "name": "stdout",
     "output_type": "stream",
     "text": [
      "{'apples': 430, 'bananas': 312, 'pears': 0}\n"
     ]
    }
   ],
   "source": [
    "# Adding an item\n",
    "inventory[\"pears\"] = 0 \n",
    "print(inventory) "
   ]
  },
  {
   "cell_type": "code",
   "execution_count": 14,
   "metadata": {},
   "outputs": [
    {
     "name": "stdout",
     "output_type": "stream",
     "text": [
      "{'apples': 430, 'bananas': 512, 'pears': 0}\n"
     ]
    }
   ],
   "source": [
    "# Changing an item\n",
    "inventory[\"bananas\"] += 200\n",
    "print(inventory) "
   ]
  },
  {
   "cell_type": "code",
   "execution_count": 15,
   "metadata": {},
   "outputs": [
    {
     "name": "stdout",
     "output_type": "stream",
     "text": [
      "3\n"
     ]
    }
   ],
   "source": [
    "# length of dictionary\n",
    "print(len(inventory))"
   ]
  },
  {
   "cell_type": "code",
   "execution_count": 16,
   "metadata": {},
   "outputs": [],
   "source": [
    "# Making Aliases and Copy\n",
    "first=inventory\n",
    "second=inventory.copy()"
   ]
  },
  {
   "cell_type": "code",
   "execution_count": 17,
   "metadata": {},
   "outputs": [
    {
     "name": "stdout",
     "output_type": "stream",
     "text": [
      "{'apples': 430, 'bananas': 512, 'pears': 300}\n",
      "{'apples': 430, 'bananas': 512, 'pears': 300}\n",
      "{'apples': 430, 'bananas': 512, 'pears': 300}\n",
      "{'apples': 430, 'bananas': 512, 'pears': 200}\n"
     ]
    }
   ],
   "source": [
    "# Now changing both and looking at effect on original\n",
    "first[\"pears\"]=300\n",
    "print(inventory)\n",
    "second[\"pears\"]=200\n",
    "print(inventory)\n",
    "print(first)\n",
    "print(second)\n"
   ]
  },
  {
   "cell_type": "markdown",
   "metadata": {},
   "source": [
    "#### Example to Count names in list"
   ]
  },
  {
   "cell_type": "code",
   "execution_count": 18,
   "metadata": {},
   "outputs": [
    {
     "name": "stdout",
     "output_type": "stream",
     "text": [
      "{'Raj': 2, 'Ramesh': 1, 'Zeenat': 1, 'Ram': 1}\n"
     ]
    }
   ],
   "source": [
    "counts = dict()\n",
    "names = ['Raj', 'Ramesh', 'Raj', 'Zeenat', 'Ram']\n",
    "for name in names :\n",
    "    if name not in counts:\n",
    "        counts[name] = 1\n",
    "    else :\n",
    "        counts[name] = counts[name] + 1\n",
    "print(counts)"
   ]
  },
  {
   "cell_type": "markdown",
   "metadata": {},
   "source": [
    "#### Example Fibonacci Series"
   ]
  },
  {
   "cell_type": "code",
   "execution_count": 92,
   "metadata": {},
   "outputs": [
    {
     "name": "stdout",
     "output_type": "stream",
     "text": [
      "55\n"
     ]
    }
   ],
   "source": [
    "alreadyknown = {0: 0, 1: 1}\n",
    "\n",
    "def fib(n): \n",
    "    #new_value=0\n",
    "    if n not in alreadyknown: \n",
    "        new_value = fib(n-1) + fib(n-2)\n",
    "        alreadyknown[n]=new_value\n",
    "    return alreadyknown[n]\n",
    "print(fib(10))"
   ]
  },
  {
   "cell_type": "code",
   "execution_count": null,
   "metadata": {},
   "outputs": [],
   "source": []
  }
 ],
 "metadata": {
  "kernelspec": {
   "display_name": "Python 3",
   "language": "python",
   "name": "python3"
  },
  "language_info": {
   "codemirror_mode": {
    "name": "ipython",
    "version": 3
   },
   "file_extension": ".py",
   "mimetype": "text/x-python",
   "name": "python",
   "nbconvert_exporter": "python",
   "pygments_lexer": "ipython3",
   "version": "3.6.12"
  }
 },
 "nbformat": 4,
 "nbformat_minor": 2
}

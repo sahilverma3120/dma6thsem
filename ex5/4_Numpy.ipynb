{
 "cells": [
  {
   "cell_type": "markdown",
   "metadata": {},
   "source": [
    "## This file is created to understand the Numpy Module \n",
    "(c) Dr. Naveen Aggarwal\n",
    "\n",
    "#### NumPy is the fundamental package for scientific computing with Python. It contains among other things:\n",
    "##### a powerful N-dimensional array object\n",
    "##### sophisticated (broadcasting) functions\n",
    "##### tools for integrating C/C++ and Fortran code\n",
    "##### useful linear algebra, Fourier transform, and random number capabilities"
   ]
  },
  {
   "cell_type": "code",
   "execution_count": 1,
   "metadata": {},
   "outputs": [],
   "source": [
    "import numpy as np"
   ]
  },
  {
   "cell_type": "code",
   "execution_count": 2,
   "metadata": {},
   "outputs": [
    {
     "name": "stdout",
     "output_type": "stream",
     "text": [
      "[ 4  8 11 14 18]\n",
      "[ 3  5  7  9 11]\n"
     ]
    }
   ],
   "source": [
    "a=np.array([1,3,5,7,9])\n",
    "b=np.array([3,5,6,7,9])\n",
    "c=a+b\n",
    "print(c)\n",
    "d=a+2\n",
    "print(d)"
   ]
  },
  {
   "cell_type": "markdown",
   "metadata": {},
   "source": [
    "### Now check the type of the c"
   ]
  },
  {
   "cell_type": "code",
   "execution_count": 3,
   "metadata": {},
   "outputs": [
    {
     "data": {
      "text/plain": [
       "numpy.ndarray"
      ]
     },
     "execution_count": 3,
     "metadata": {},
     "output_type": "execute_result"
    }
   ],
   "source": [
    "type(c)"
   ]
  },
  {
   "cell_type": "markdown",
   "metadata": {},
   "source": [
    "### Now check the shape of c\n"
   ]
  },
  {
   "cell_type": "code",
   "execution_count": 4,
   "metadata": {},
   "outputs": [
    {
     "data": {
      "text/plain": [
       "(5,)"
      ]
     },
     "execution_count": 4,
     "metadata": {},
     "output_type": "execute_result"
    }
   ],
   "source": [
    "c.shape"
   ]
  },
  {
   "cell_type": "markdown",
   "metadata": {},
   "source": [
    "### There are two ways of creating matrices.\n",
    "#### First is to create list and then convert into numpy array"
   ]
  },
  {
   "cell_type": "code",
   "execution_count": 7,
   "metadata": {},
   "outputs": [
    {
     "name": "stdout",
     "output_type": "stream",
     "text": [
      "[[1 2 3]\n",
      " [3 6 9]\n",
      " [2 4 6]]\n",
      "(3, 3)\n",
      "int32\n"
     ]
    }
   ],
   "source": [
    "# create a list \n",
    "l = [[1, 2, 3], [3, 6, 9], [2, 4, 6]]  \n",
    "# convert a list to an array\n",
    "a = np.array(l)   \n",
    "print(a)\n",
    "# Shape and Data Type\n",
    "print(a.shape)\n",
    "print(a.dtype)"
   ]
  },
  {
   "cell_type": "markdown",
   "metadata": {},
   "source": [
    "#### Second way is to create direct array simple or complex"
   ]
  },
  {
   "cell_type": "code",
   "execution_count": 8,
   "metadata": {},
   "outputs": [
    {
     "name": "stdout",
     "output_type": "stream",
     "text": [
      "[[1 2]\n",
      " [3 4]]\n",
      "(2, 2)\n",
      "int32\n"
     ]
    }
   ],
   "source": [
    "a = np.array([[1, 2], [3, 4]])\n",
    "print(a)\n",
    "# Shape and Data Type\n",
    "print(a.shape)\n",
    "print(a.dtype)"
   ]
  },
  {
   "cell_type": "markdown",
   "metadata": {},
   "source": [
    "#### Creating complex array"
   ]
  },
  {
   "cell_type": "code",
   "execution_count": 9,
   "metadata": {},
   "outputs": [
    {
     "name": "stdout",
     "output_type": "stream",
     "text": [
      "[[1.+0.j 2.+0.j]\n",
      " [3.+0.j 4.+0.j]]\n",
      "(2, 2)\n",
      "complex128\n"
     ]
    }
   ],
   "source": [
    "a = np.array([[1, 2], [3, 4]], dtype=complex)\n",
    "print(a)\n",
    "# Shape and Data Type\n",
    "print(a.shape)\n",
    "print(a.dtype)"
   ]
  },
  {
   "cell_type": "markdown",
   "metadata": {},
   "source": [
    "### Accesing the Array elements"
   ]
  },
  {
   "cell_type": "code",
   "execution_count": 10,
   "metadata": {},
   "outputs": [
    {
     "name": "stdout",
     "output_type": "stream",
     "text": [
      "[[1 2 3]\n",
      " [4 5 6]\n",
      " [7 8 9]]\n"
     ]
    }
   ],
   "source": [
    "a=np.array([[1, 2, 3], [4, 5, 6], [7, 8, 9]])\n",
    "print(a)"
   ]
  },
  {
   "cell_type": "code",
   "execution_count": 9,
   "metadata": {},
   "outputs": [
    {
     "name": "stdout",
     "output_type": "stream",
     "text": [
      "[7 8 9]\n"
     ]
    }
   ],
   "source": [
    "# This is just like a list of lists \n",
    "print(a[2])  "
   ]
  },
  {
   "cell_type": "code",
   "execution_count": 10,
   "metadata": {},
   "outputs": [
    {
     "name": "stdout",
     "output_type": "stream",
     "text": [
      "6\n"
     ]
    }
   ],
   "source": [
    "# arrays can be given comma separated indices\n",
    "print(a[1, 2])"
   ]
  },
  {
   "cell_type": "code",
   "execution_count": 11,
   "metadata": {},
   "outputs": [
    {
     "name": "stdout",
     "output_type": "stream",
     "text": [
      "[5 6]\n"
     ]
    }
   ],
   "source": [
    "# and slices\n",
    "print(a[1, 1:3])"
   ]
  },
  {
   "cell_type": "code",
   "execution_count": 12,
   "metadata": {},
   "outputs": [
    {
     "name": "stdout",
     "output_type": "stream",
     "text": [
      "[2 5 8]\n"
     ]
    }
   ],
   "source": [
    "print(a[:,1])"
   ]
  },
  {
   "cell_type": "code",
   "execution_count": 13,
   "metadata": {},
   "outputs": [
    {
     "name": "stdout",
     "output_type": "stream",
     "text": [
      "[[1 2 3]\n",
      " [4 5 7]\n",
      " [7 8 9]]\n"
     ]
    }
   ],
   "source": [
    "#changing the values in array\n",
    "a[1, 2] = 7 \n",
    "print(a) "
   ]
  },
  {
   "cell_type": "code",
   "execution_count": 14,
   "metadata": {},
   "outputs": [
    {
     "name": "stdout",
     "output_type": "stream",
     "text": [
      "[[0 2 3]\n",
      " [9 5 7]\n",
      " [8 8 9]]\n"
     ]
    }
   ],
   "source": [
    "a[:, 0] = [0, 9, 8] \n",
    "print(a) "
   ]
  },
  {
   "cell_type": "markdown",
   "metadata": {},
   "source": [
    "### Examples of Array Generating Functions"
   ]
  },
  {
   "cell_type": "code",
   "execution_count": 15,
   "metadata": {},
   "outputs": [
    {
     "name": "stdout",
     "output_type": "stream",
     "text": [
      "[0 2 4 6 8]\n",
      "[ 0  0  0  0  0  0  0  0  0  0  1  1  1  1  1  1  1  1  1  1  2  2  2  2\n",
      "  2  2  2  2  2  2  3  3  3  3  3  3  3  3  3  3  4  4  4  4  4  4  4  4\n",
      "  4  4  5  5  5  5  5  5  5  5  5  5  6  6  6  6  6  6  6  6  6  6  7  7\n",
      "  7  7  7  7  7  7  7  7  8  8  8  8  8  8  8  8  8  8  9  9  9  9  9  9\n",
      "  9  9  9 10]\n",
      "[1.00000000e+00 1.29154967e+01 1.66810054e+02 2.15443469e+03\n",
      " 2.78255940e+04 3.59381366e+05 4.64158883e+06 5.99484250e+07\n",
      " 7.74263683e+08 1.00000000e+10]\n"
     ]
    }
   ],
   "source": [
    "x = np.arange(0, 10, 2) # arguments: start, stop, step\n",
    "print(x)\n",
    "y=np.linspace(0, 10, 100, dtype=np.int) #\n",
    "print(y)\n",
    "z=np.logspace(0, 10, 10, base=10)\n",
    "print(z)"
   ]
  },
  {
   "cell_type": "code",
   "execution_count": 16,
   "metadata": {},
   "outputs": [
    {
     "name": "stdout",
     "output_type": "stream",
     "text": [
      "[[1 0 0]\n",
      " [0 2 0]\n",
      " [0 0 3]]\n"
     ]
    }
   ],
   "source": [
    "# a diagonal matrix\n",
    "z=np.diag([1,2,3])\n",
    "print(z)"
   ]
  },
  {
   "cell_type": "code",
   "execution_count": 17,
   "metadata": {},
   "outputs": [
    {
     "name": "stdout",
     "output_type": "stream",
     "text": [
      "[0. 0. 0. 0. 0.] [1. 1. 1. 1. 1.]\n",
      "float64\n"
     ]
    }
   ],
   "source": [
    "#By Default it creates floating array\n",
    "b = np.zeros(5)\n",
    "c=np.ones(5)\n",
    "print(b,c) \n",
    "print(b.dtype)"
   ]
  },
  {
   "cell_type": "code",
   "execution_count": 18,
   "metadata": {},
   "outputs": [
    {
     "name": "stdout",
     "output_type": "stream",
     "text": [
      "[0 0 0 0 0 0 0 0 0 0]\n",
      "int32\n"
     ]
    }
   ],
   "source": [
    "#Tocreate integer array\n",
    "my_int_array = np.zeros(10, dtype=np.int) \n",
    "print(my_int_array)\n",
    "print(my_int_array.dtype)"
   ]
  },
  {
   "cell_type": "code",
   "execution_count": 11,
   "metadata": {},
   "outputs": [
    {
     "name": "stdout",
     "output_type": "stream",
     "text": [
      "[0 1 2 3 4]\n",
      "[0 9 2 3 4]\n",
      "[0.  3.6 0.8 1.2 1.6]\n",
      "int32\n",
      "[0. 1. 2. 3. 4.] float64\n",
      "[3.  3.5 4.  4.5 5.  5.5 6.  6.5]\n"
     ]
    }
   ],
   "source": [
    "#Working with arange\n",
    "d=np.arange(5)  #just like range(), It generates int array \n",
    "print(d) \n",
    "\n",
    "# arrays keep their type even if elements changed \n",
    "d[1] = 9.7 \n",
    "print(d)  \n",
    "\n",
    "# operations create a new array, with new type \n",
    "\n",
    "print(d*0.4)  \n",
    "print(d.dtype)\n",
    "\n",
    "#creating float array\n",
    "d = np.arange(5, dtype=np.float)  \n",
    "print(d, d.dtype) \n",
    "\n",
    "# arbitrary start, stop and step\n",
    "d=np.arange(3, 7, 0.5) \n",
    "print(d)\n"
   ]
  },
  {
   "cell_type": "markdown",
   "metadata": {},
   "source": [
    "### Other ways to create Arrays"
   ]
  },
  {
   "cell_type": "code",
   "execution_count": 12,
   "metadata": {},
   "outputs": [
    {
     "name": "stdout",
     "output_type": "stream",
     "text": [
      "[[0 0 0 0 0]\n",
      " [1 1 1 1 1]\n",
      " [2 2 2 2 2]\n",
      " [3 3 3 3 3]\n",
      " [4 4 4 4 4]]\n",
      "[[0 1 2 3 4]\n",
      " [0 1 2 3 4]\n",
      " [0 1 2 3 4]\n",
      " [0 1 2 3 4]\n",
      " [0 1 2 3 4]]\n"
     ]
    }
   ],
   "source": [
    "\n",
    "x, y = np.mgrid[0:5, 0:5] # similar to meshgrid in MATLAB\n",
    "print(x)\n",
    "print(y)\n",
    "\n"
   ]
  },
  {
   "cell_type": "markdown",
   "metadata": {},
   "source": [
    "### Creating random array"
   ]
  },
  {
   "cell_type": "code",
   "execution_count": 13,
   "metadata": {},
   "outputs": [
    {
     "name": "stdout",
     "output_type": "stream",
     "text": [
      "[[0.8469944  0.39415217 0.18230933 0.51349582 0.36822051]\n",
      " [0.17732524 0.56808604 0.1110386  0.90869618 0.89515035]\n",
      " [0.75686123 0.14163566 0.90866459 0.573432   0.95293154]\n",
      " [0.68136942 0.7060054  0.21368383 0.34400836 0.81300251]\n",
      " [0.98795976 0.88781194 0.80809281 0.85750473 0.88636779]]\n"
     ]
    }
   ],
   "source": [
    "\n",
    "z=np.random.rand(5,5)\n",
    "print(z)"
   ]
  },
  {
   "cell_type": "markdown",
   "metadata": {},
   "source": [
    "### Mutable Arrays\n",
    "There are three cases to be discussed for copying an array"
   ]
  },
  {
   "cell_type": "code",
   "execution_count": 14,
   "metadata": {},
   "outputs": [
    {
     "name": "stdout",
     "output_type": "stream",
     "text": [
      "[1 2 3 4]\n",
      "[1 2 3 4]\n",
      "[1 2 3 4]\n"
     ]
    }
   ],
   "source": [
    "# Case 1\n",
    "x = np.array([1,2,3,4])\n",
    "#First way to Copy\n",
    "x1 = x\n",
    "print(x1)\n",
    "#Second way to Copy\n",
    "x2=x[:]\n",
    "print(x2)\n",
    "#Third way to copy\n",
    "x3=x.copy()\n",
    "print(x3)\n"
   ]
  },
  {
   "cell_type": "code",
   "execution_count": 15,
   "metadata": {},
   "outputs": [
    {
     "name": "stdout",
     "output_type": "stream",
     "text": [
      "True\n",
      "False\n",
      "False\n"
     ]
    }
   ],
   "source": [
    "#checking Equivalence\n",
    "print(x is x1)\n",
    "print (x is x2)\n",
    "print(x is x3)\n"
   ]
  },
  {
   "cell_type": "code",
   "execution_count": 16,
   "metadata": {},
   "outputs": [
    {
     "name": "stdout",
     "output_type": "stream",
     "text": [
      "1705302127040 1705302127040 1705302129040 1705302127200\n"
     ]
    }
   ],
   "source": [
    "#Checking their ids\n",
    "print(id(x), id(x1), id(x2), id(x3))"
   ]
  },
  {
   "cell_type": "code",
   "execution_count": 17,
   "metadata": {},
   "outputs": [
    {
     "name": "stdout",
     "output_type": "stream",
     "text": [
      "[4 2 3 4]\n",
      "[4 2 3 4]\n",
      "[1 2 3 4]\n"
     ]
    }
   ],
   "source": [
    "#Changing X affects Y\n",
    "\n",
    "x[0] = 4\n",
    "print(x1)\n",
    "print(x2)\n",
    "print(x3)"
   ]
  },
  {
   "cell_type": "markdown",
   "metadata": {},
   "source": [
    "### Array Functions"
   ]
  },
  {
   "cell_type": "code",
   "execution_count": 18,
   "metadata": {},
   "outputs": [
    {
     "name": "stdout",
     "output_type": "stream",
     "text": [
      "[1 2 3 4 5 6 7 8 9]\n",
      "Sum of all elements is 45\n",
      "Mean of Array is  5.0\n",
      "Std Dev of array is  2.581988897471611\n",
      "Smallest element is 1 and Largest is  9\n"
     ]
    }
   ],
   "source": [
    "a=np.arange(1,10,1)\n",
    "print(a)\n",
    "# Taking sum of all elements\n",
    "print(\"Sum of all elements is\",a.sum())\n",
    "#Taking mean\n",
    "print(\"Mean of Array is \", a.mean())\n",
    "#Std Dev \n",
    "print('Std Dev of array is ', a.std())\n",
    "\n",
    "#Smallest and largest element\n",
    "print(\"Smallest element is\", a.min(),\"and Largest is \", a.max())"
   ]
  },
  {
   "cell_type": "markdown",
   "metadata": {},
   "source": [
    "### Sorting An Array"
   ]
  },
  {
   "cell_type": "code",
   "execution_count": 19,
   "metadata": {},
   "outputs": [
    {
     "name": "stdout",
     "output_type": "stream",
     "text": [
      "[1 2 3 4 5 6 9]\n",
      "[9 6 5 4 3 2 1]\n"
     ]
    }
   ],
   "source": [
    "#First way\n",
    "a=np.array([2,4,3,9,6,5,1])\n",
    "\n",
    "a.sort()\n",
    "print(a)\n",
    "print(np.sort(a)[::-1])\n"
   ]
  },
  {
   "cell_type": "code",
   "execution_count": 20,
   "metadata": {},
   "outputs": [
    {
     "name": "stdout",
     "output_type": "stream",
     "text": [
      "[1 2 3 4 5 6 9]\n",
      "[9 6 5 4 3 2 1]\n"
     ]
    }
   ],
   "source": [
    "#Second way by storing the arguments of sorted array\n",
    "#Ascending\n",
    "b=np.argsort(a)\n",
    "#Descending\n",
    "c=np.argsort(-a)\n",
    "\n",
    "print(a[b])\n",
    "print(a[c])"
   ]
  },
  {
   "cell_type": "markdown",
   "metadata": {},
   "source": [
    "### Matrix Operations on Arrays"
   ]
  },
  {
   "cell_type": "code",
   "execution_count": 29,
   "metadata": {},
   "outputs": [
    {
     "name": "stdout",
     "output_type": "stream",
     "text": [
      "[[2 3]\n",
      " [7 8]]\n",
      "[[1. 0.]\n",
      " [0. 1.]]\n"
     ]
    }
   ],
   "source": [
    "a=np.array([[2,3],[7,8]])\n",
    "print(a)\n",
    "b=np.eye(2)\n",
    "print(b)"
   ]
  },
  {
   "cell_type": "code",
   "execution_count": 30,
   "metadata": {},
   "outputs": [
    {
     "name": "stdout",
     "output_type": "stream",
     "text": [
      "[[2 7]\n",
      " [3 8]]\n"
     ]
    }
   ],
   "source": [
    "# transpose of matrix\n",
    "print(a.transpose())"
   ]
  },
  {
   "cell_type": "code",
   "execution_count": 31,
   "metadata": {},
   "outputs": [
    {
     "name": "stdout",
     "output_type": "stream",
     "text": [
      "[[-1.6  0.6]\n",
      " [ 1.4 -0.4]]\n"
     ]
    }
   ],
   "source": [
    "# Inverse of matrix\n",
    "from numpy.linalg import inv\n",
    "print(inv(a))"
   ]
  },
  {
   "cell_type": "code",
   "execution_count": 32,
   "metadata": {},
   "outputs": [
    {
     "name": "stdout",
     "output_type": "stream",
     "text": [
      "[[2. 3.]\n",
      " [7. 8.]]\n"
     ]
    }
   ],
   "source": [
    "#product of two matrices\n",
    "c=np.dot(a,b)\n",
    "print(c)"
   ]
  },
  {
   "cell_type": "markdown",
   "metadata": {},
   "source": [
    "### Converting Array into matrices"
   ]
  },
  {
   "cell_type": "code",
   "execution_count": 33,
   "metadata": {},
   "outputs": [
    {
     "name": "stdout",
     "output_type": "stream",
     "text": [
      "[[1 2]\n",
      " [3 4]]\n",
      "[[1 2]\n",
      " [3 4]]\n",
      "[[1 2]\n",
      " [3 4]]\n"
     ]
    }
   ],
   "source": [
    "a = np.array([[1,2],[3,4]]) \n",
    "m1 = np.mat(a) # convert 2-d array to matrix \n",
    "m = np.matrix([[1, 2], [3, 4]]) \n",
    "print(a)\n",
    "print(m1)\n",
    "print(m)"
   ]
  },
  {
   "cell_type": "markdown",
   "metadata": {},
   "source": [
    "### Difference between Operatons on Array and Matrices"
   ]
  },
  {
   "cell_type": "code",
   "execution_count": 34,
   "metadata": {},
   "outputs": [
    {
     "name": "stdout",
     "output_type": "stream",
     "text": [
      "[1 2]\n"
     ]
    }
   ],
   "source": [
    "# Normal Array result is 1-dimensional \n",
    "print(a[0])"
   ]
  },
  {
   "cell_type": "code",
   "execution_count": 35,
   "metadata": {},
   "outputs": [
    {
     "name": "stdout",
     "output_type": "stream",
     "text": [
      "[[1 2]]\n"
     ]
    }
   ],
   "source": [
    "# On Matrix, result is 2-dimensional \n",
    "print(m[0]) "
   ]
  },
  {
   "cell_type": "code",
   "execution_count": 36,
   "metadata": {},
   "outputs": [
    {
     "name": "stdout",
     "output_type": "stream",
     "text": [
      "[[ 1  4]\n",
      " [ 9 16]]\n",
      "[[ 7 10]\n",
      " [15 22]]\n"
     ]
    }
   ],
   "source": [
    "# element-by-element multiplication on Normal Array\n",
    "print(a*a) \n",
    "# (algebraic) matrix multiplication on Matrix\n",
    "print(m*m)"
   ]
  },
  {
   "cell_type": "code",
   "execution_count": 37,
   "metadata": {},
   "outputs": [
    {
     "name": "stdout",
     "output_type": "stream",
     "text": [
      "[[ 1  8]\n",
      " [27 64]]\n",
      "[[ 37  54]\n",
      " [ 81 118]]\n"
     ]
    }
   ],
   "source": [
    "# element-wise power on Array\n",
    "print(a**3)\n",
    "# matrix multiplication m*m*m \n",
    "print(m**3) "
   ]
  },
  {
   "cell_type": "code",
   "execution_count": 38,
   "metadata": {},
   "outputs": [
    {
     "name": "stdout",
     "output_type": "stream",
     "text": [
      "[[1 3]\n",
      " [2 4]]\n",
      "[[1 3]\n",
      " [2 4]]\n",
      "[[-2.   1. ]\n",
      " [ 1.5 -0.5]]\n"
     ]
    }
   ],
   "source": [
    "# transpose of the matrix \n",
    "print(m.T) \n",
    "# conjugate transpose (differs from .T for complex matrices) \n",
    "print(m.H) \n",
    "# inverse matrix \n",
    "print(m.I) "
   ]
  },
  {
   "cell_type": "code",
   "execution_count": null,
   "metadata": {},
   "outputs": [],
   "source": []
  }
 ],
 "metadata": {
  "kernelspec": {
   "display_name": "Python 3",
   "language": "python",
   "name": "python3"
  },
  "language_info": {
   "codemirror_mode": {
    "name": "ipython",
    "version": 3
   },
   "file_extension": ".py",
   "mimetype": "text/x-python",
   "name": "python",
   "nbconvert_exporter": "python",
   "pygments_lexer": "ipython3",
   "version": "3.6.12"
  }
 },
 "nbformat": 4,
 "nbformat_minor": 2
}
